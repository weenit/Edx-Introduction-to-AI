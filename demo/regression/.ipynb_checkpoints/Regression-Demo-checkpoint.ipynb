{
 "cells": [
  {
   "cell_type": "code",
   "execution_count": 1,
   "metadata": {},
   "outputs": [
    {
     "data": {
      "image/png": "[encoded data removed]",
      "text/plain": [
       "<matplotlib.figure.Figure at 0x11a8cfc88>"
      ]
     },
     "metadata": {},
     "output_type": "display_data"
    }
   ],
   "source": [
    "''' Use linear regression to predict calories '''\n",
    "import pandas as pd\n",
    "from sklearn import preprocessing\n",
    "from sklearn.model_selection import train_test_split\n",
    "from sklearn import linear_model\n",
    "import matplotlib.pyplot as plt\n",
    "\n",
    "# Read data\n",
    "exercise = pd.read_csv('exercise.csv')\n",
    "calories = pd.read_csv('calories.csv')\n",
    "\n",
    "data = pd.merge(exercise, calories, on='User_ID')\n",
    "# print(data.head())\n",
    "\n",
    "# Convert Gender to categorial\n",
    "enc = preprocessing.LabelEncoder()\n",
    "enc.fit(['male', 'female'])\n",
    "data['Gender_Categorial'] = pd.DataFrame(enc.transform(data['Gender']))\n",
    "# data['Gender_Categorial_Inv'] = pd.DataFrame(enc.inverse_transform(data['Gender_Categorial']))\n",
    "\n",
    "# Create features\n",
    "data['Duration_Sqr'] = data['Duration'] ** 2\n",
    "data['Heart_Rate_Sqr'] = data['Heart_Rate'] ** 2\n",
    "\n",
    "'''\n",
    "    apply math operation\n",
    "    calculate log calories to ensure no negative prediction\n",
    "'''\n",
    "\n",
    "# scale value: zscore normalization\n",
    "zscore_scaler = preprocessing.Normalizer()\n",
    "data['Height'] = zscore_scaler.fit_transform(data[['Height']])\n",
    "data['Weight'] = zscore_scaler.fit_transform(data[['Weight']])\n",
    "data['Heart_Rate'] = zscore_scaler.fit_transform(data[['Heart_Rate']])\n",
    "data['Heart_Rate_Sqr'] = zscore_scaler.fit_transform(data[['Heart_Rate_Sqr']])\n",
    "data['Body_Temp'] = zscore_scaler.fit_transform(data[['Body_Temp']])\n",
    "\n",
    "# scale value: MinMax [Age, Duration, Duration_Sqr]\n",
    "min_max_scaler = preprocessing.MinMaxScaler()\n",
    "data['Age'] = min_max_scaler.fit_transform(data[['Age']])\n",
    "data['Duration'] = min_max_scaler.fit_transform(data[['Duration']])\n",
    "data['Duration_Sqr'] = min_max_scaler.fit_transform(data[['Duration_Sqr']])\n",
    "\n",
    "# print(data.head())\n",
    "\n",
    "''' Remove unwanted features before training '''\n",
    "features = data\n",
    "del features['User_ID']\n",
    "del features['Gender']\n",
    "y = features.Calories\n",
    "del features['Calories']\n",
    "\n",
    "# Split training and testing data\n",
    "X_train, X_test, y_train, y_test = train_test_split(features, y, test_size=0.3)\n",
    "\n",
    "# fit a model\n",
    "lm = linear_model.LinearRegression()\n",
    "model = lm.fit(X_train,y_train)\n",
    "predictions = lm.predict(X_test)\n",
    "\n",
    "# print(predictions[0:5])\n",
    "\n",
    "'''Plot predictions vs actual value'''\n",
    "plt.scatter(y_test, predictions)\n",
    "plt.xlabel('True Values')\n",
    "plt.ylabel('Predictions')\n",
    "plt.show()\n",
    "\n",
    "\n",
    "\n"
   ]
  },
  {
   "cell_type": "code",
   "execution_count": 2,
   "metadata": {},
   "outputs": [
    {
     "name": "stdout",
     "output_type": "stream",
     "text": [
      "Score: 0.9501315777101021\n"
     ]
    }
   ],
   "source": [
    "print ('Score:', model.score(X_test, y_test))"
   ]
  },
  {
   "cell_type": "code",
   "execution_count": null,
   "metadata": {
    "collapsed": true
   },
   "outputs": [],
   "source": []
  }
 ],
 "metadata": {
  "kernelspec": {
   "display_name": "Python 3",
   "language": "python",
   "name": "python3"
  },
  "language_info": {
   "codemirror_mode": {
    "name": "ipython",
    "version": 3
   },
   "file_extension": ".py",
   "mimetype": "text/x-python",
   "name": "python",
   "nbconvert_exporter": "python",
   "pygments_lexer": "ipython3",
   "version": "3.5.3"
  }
 },
 "nbformat": 4,
 "nbformat_minor": 2
}
