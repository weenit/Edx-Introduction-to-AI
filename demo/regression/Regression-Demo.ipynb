{
 "cells": [
  {
   "cell_type": "code",
   "execution_count": 4,
   "metadata": {},
   "outputs": [
    {
     "name": "stdout",
     "output_type": "stream",
     "text": [
      "    User_ID  Gender  Age  Height  Weight  Duration  Heart_Rate  Body_Temp  \\\n",
      "0  14733363    male   68   190.0    94.0      29.0       105.0       40.8   \n",
      "1  14861698  female   20   166.0    60.0      14.0        94.0       40.3   \n",
      "2  11179863    male   69   179.0    79.0       5.0        88.0       38.7   \n",
      "3  16180408  female   34   179.0    71.0      13.0       100.0       40.5   \n",
      "4  17771927  female   27   154.0    58.0      10.0        81.0       39.8   \n",
      "\n",
      "   Calories  \n",
      "0     231.0  \n",
      "1      66.0  \n",
      "2      26.0  \n",
      "3      71.0  \n",
      "4      35.0  \n",
      "#######################################################\n",
      "    User_ID  Gender       Age  Height  Weight  Duration  Heart_Rate  \\\n",
      "0  14733363    male  0.813559     1.0     1.0  0.965517         1.0   \n",
      "1  14861698  female  0.000000     1.0     1.0  0.448276         1.0   \n",
      "2  11179863    male  0.830508     1.0     1.0  0.137931         1.0   \n",
      "3  16180408  female  0.237288     1.0     1.0  0.413793         1.0   \n",
      "4  17771927  female  0.118644     1.0     1.0  0.310345         1.0   \n",
      "\n",
      "   Body_Temp  Calories  Gender_Categorial  Duration_Sqr  Heart_Rate_Sqr  \n",
      "0        1.0     231.0                  1      0.934372             1.0  \n",
      "1        1.0      66.0                  0      0.216908             1.0  \n",
      "2        1.0      26.0                  1      0.026696             1.0  \n",
      "3        1.0      71.0                  0      0.186874             1.0  \n",
      "4        1.0      35.0                  0      0.110122             1.0  \n"
     ]
    }
   ],
   "source": [
    "import pandas as pd\n",
    "# from sklearn.preprocessing import OneHotEncoder\n",
    "from sklearn import preprocessing\n",
    "from sklearn.model_selection import train_test_split\n",
    "from sklearn import linear_model\n",
    "exercise = pd.read_csv('exercise.csv')\n",
    "calories = pd.read_csv('calories.csv')\n",
    "\n",
    "data = pd.merge(exercise, calories, on='User_ID')\n",
    "\n",
    "\n",
    "print(data.head())\n",
    "print('#######################################################')\n",
    "\n",
    "# converting gender to categorial\n",
    "enc = preprocessing.LabelEncoder()\n",
    "enc.fit(['male', 'female'])\n",
    "data['Gender_Categorial'] = pd.DataFrame(enc.transform(data['Gender']))\n",
    "# data['Gender_Categorial_Inv'] = pd.DataFrame(enc.inverse_transform(data['Gender_Categorial']))\n",
    "\n",
    "# creating new features\n",
    "data['Duration_Sqr'] = data['Duration'] ** 2\n",
    "data['Heart_Rate_Sqr'] = data['Heart_Rate'] ** 2\n",
    "\n",
    "''' \n",
    "    apply math operation \n",
    "    calculate log calories to ensure no negative prediction\n",
    "'''\n",
    "\n",
    "# scale value: zscore normalization\n",
    "zscore_scaler = preprocessing.Normalizer()\n",
    "data['Height'] = zscore_scaler.fit_transform(data[['Height']])\n",
    "data['Weight'] = zscore_scaler.fit_transform(data[['Weight']])\n",
    "data['Heart_Rate'] = zscore_scaler.fit_transform(data[['Heart_Rate']])\n",
    "data['Heart_Rate_Sqr'] = zscore_scaler.fit_transform(data[['Heart_Rate_Sqr']])\n",
    "data['Body_Temp'] = zscore_scaler.fit_transform(data[['Body_Temp']])\n",
    "\n",
    "# scale value: MinMax [Age, Duration, Duration_Sqr]\n",
    "\n",
    "min_max_scaler = preprocessing.MinMaxScaler()\n",
    "data['Age'] = min_max_scaler.fit_transform(data[['Age']])\n",
    "data['Duration'] = min_max_scaler.fit_transform(data[['Duration']])\n",
    "data['Duration_Sqr'] = min_max_scaler.fit_transform(data[['Duration_Sqr']])\n",
    "\n",
    "print(data.head())\n",
    "\n",
    "features = data\n",
    "del features['User_ID']\n",
    "del features['Gender']\n",
    "y = features.Calories\n",
    "\n",
    "\n"
   ]
  },
  {
   "cell_type": "code",
   "execution_count": 5,
   "metadata": {},
   "outputs": [],
   "source": [
    "# create training and testing vars\n",
    "X_train, X_test, y_train, y_test = train_test_split(features, y, test_size=0.2) \n",
    "\n",
    "# fit a model\n",
    "lm = linear_model.LinearRegression()\n",
    "model = lm.fit(X_train,y_train)\n",
    "predictions = lm.predict(X_test)"
   ]
  },
  {
   "cell_type": "code",
   "execution_count": 6,
   "metadata": {},
   "outputs": [
    {
     "data": {
      "text/plain": [
       "array([130.,  60.,   4.,  99., 146.])"
      ]
     },
     "execution_count": 6,
     "metadata": {},
     "output_type": "execute_result"
    }
   ],
   "source": [
    "predictions[0:5]"
   ]
  },
  {
   "cell_type": "code",
   "execution_count": 10,
   "metadata": {},
   "outputs": [
    {
     "data": {
      "image/png": "[encoded data removed]",
      "text/plain": [
       "<matplotlib.figure.Figure at 0x11ae4bb00>"
      ]
     },
     "metadata": {},
     "output_type": "display_data"
    }
   ],
   "source": [
    "import matplotlib.pyplot as plt\n",
    "\n",
    "plt.scatter(y_test, predictions)\n",
    "plt.xlabel('True Values')\n",
    "plt.ylabel('Predictions')\n",
    "\n",
    "plt.show()"
   ]
  },
  {
   "cell_type": "code",
   "execution_count": 11,
   "metadata": {},
   "outputs": [
    {
     "name": "stdout",
     "output_type": "stream",
     "text": [
      "Score: 1.0\n"
     ]
    }
   ],
   "source": [
    "print ('Score:', model.score(X_test, y_test))"
   ]
  },
  {
   "cell_type": "code",
   "execution_count": null,
   "metadata": {
    "collapsed": true
   },
   "outputs": [],
   "source": []
  }
 ],
 "metadata": {
  "kernelspec": {
   "display_name": "Python 3",
   "language": "python",
   "name": "python3"
  },
  "language_info": {
   "codemirror_mode": {
    "name": "ipython",
    "version": 3
   },
   "file_extension": ".py",
   "mimetype": "text/x-python",
   "name": "python",
   "nbconvert_exporter": "python",
   "pygments_lexer": "ipython3",
   "version": "3.5.3"
  }
 },
 "nbformat": 4,
 "nbformat_minor": 2
}
